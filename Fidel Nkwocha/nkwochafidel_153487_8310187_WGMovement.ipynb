{
 "cells": [
  {
   "cell_type": "code",
   "execution_count": null,
   "metadata": {},
   "outputs": [],
   "source": [
    "import pandas as pd\n",
    "import plotly.express as px\n",
    "\n",
    "class AnalyzeWGDataset (object):\n",
    "    \"\"\"The program will be used to read a dataset and generate a visualization.\n",
    "    \n",
    "    It uses the plotly library to produce a treemap plot.   \n",
    "    \"\"\"\n",
    "\n",
    "\n",
    "    def processFile(self):\n",
    "        \"\"\"A function to that reads a csv file and creates a treemap.\"\"\"\n",
    "        \n",
    "        data = pd.read_csv('WG_Movement.csv')\n",
    "        wagnerOnly = data.loc[data['Army']==\"Wagner\"]\n",
    "        wagnerOnly = wagnerOnly.sort_values(['Continent', 'Country', 'Year'],\n",
    "                      ascending = [True, True, True])\n",
    "\n",
    "        fig = px.treemap(wagnerOnly, path=['Continent', 'Country', 'Year'], \n",
    "                          color='Country', \n",
    "                          color_continuous_scale='RdBu'\n",
    "                          )\n",
    "        fig.update_layout(margin = dict(t=50, l=25, r=25, b=25))\n",
    "        fig.show()\n",
    "        \n",
    "\n",
    "wg = AnalyzeWGDataset()\n",
    "wg.processFile()"
   ]
  }
 ],
 "metadata": {
  "kernelspec": {
   "display_name": "python-data",
   "language": "python",
   "name": "python-data"
  },
  "language_info": {
   "codemirror_mode": {
    "name": "ipython",
    "version": 3
   },
   "file_extension": ".py",
   "mimetype": "text/x-python",
   "name": "python",
   "nbconvert_exporter": "python",
   "pygments_lexer": "ipython3",
   "version": "3.9.12"
  }
 },
 "nbformat": 4,
 "nbformat_minor": 2
}
