{
 "cells": [
  {
   "cell_type": "code",
   "execution_count": null,
   "metadata": {},
   "outputs": [],
   "source": [
    "import requests\n",
    "import pandas as pd\n",
    "import json\n",
    "\n",
    "class BingApiSearch (object):\n",
    "    \"\"\"The program will be used to connect to the Bing search engine.\n",
    "    \n",
    "    It uses the Bing API to retrieve articles mentioning the provided search term.   \n",
    "    \"\"\"\n",
    "\n",
    "    def __init__(self, subscriptionKey, searchTerm, endPoint):\n",
    "        self.subscription_key  = subscriptionKey\n",
    "        self.search_term  = searchTerm \n",
    "        self.search_url  = endPoint \n",
    "        self.headers = {\"Ocp-Apim-Subscription-Key\" : self.subscription_key}\n",
    "        self.params  = {\"q\": self.search_term, \"textDecorations\": True, \"textFormat\": \"HTML\"}\n",
    "        self.data = []\n",
    "\n",
    "\n",
    "    def searchBing(self):\n",
    "        \"\"\"A function to that calls the Bing API endpoint and writes the response to a JSON object.\"\"\"\n",
    "        \n",
    "        response = requests.get(self.search_url, headers=self.headers, params=self.params)\n",
    "        response.raise_for_status()\n",
    "\n",
    "        # Convert response string to JSON format\n",
    "        self.data = json.loads(response.text)\n",
    "\n",
    "    def formatResult(self):\n",
    "        \"\"\"A function to print out the results of the search.\"\"\"\n",
    "        \n",
    "        # Loop through each news article\n",
    "        articles = self.data[\"value\"]\n",
    "        for article in articles:\n",
    "            print(\"Title:\", article[\"name\"])\n",
    "            print(\"Description:\", article[\"description\"])\n",
    "            print(\"URL:\", article[\"url\"])\n",
    "            print(\"Published at:\", article[\"datePublished\"])\n",
    "            print()\n",
    "    \n",
    "    \n",
    "\n",
    "\n",
    "bingit = BingApiSearch(\"8a27cb1242b1447a8c79eea9e7f4332e\", \"wagner human rights\", \"https://api.bing.microsoft.com/v7.0/news/search\")\n",
    "bingit.searchBing()\n",
    "bingit.formatResult()"
   ]
  }
 ],
 "metadata": {
  "kernelspec": {
   "display_name": "python-data",
   "language": "python",
   "name": "python-data"
  },
  "language_info": {
   "codemirror_mode": {
    "name": "ipython",
    "version": 3
   },
   "file_extension": ".py",
   "mimetype": "text/x-python",
   "name": "python",
   "nbconvert_exporter": "python",
   "pygments_lexer": "ipython3",
   "version": "3.9.12"
  }
 },
 "nbformat": 4,
 "nbformat_minor": 2
}
